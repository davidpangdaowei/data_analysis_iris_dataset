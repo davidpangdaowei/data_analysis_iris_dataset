{
 "cells": [
  {
   "cell_type": "markdown",
   "id": "e2651648",
   "metadata": {},
   "source": [
    "### iris dataset prediction via unsupervised learning"
   ]
  },
  {
   "cell_type": "markdown",
   "id": "edf879c5",
   "metadata": {},
   "source": [
    "#### objective: split the iris dataset observations into well-separated group called clusters."
   ]
  },
  {
   "cell_type": "markdown",
   "id": "c3fc7808",
   "metadata": {},
   "source": [
    "#### k-means: centroid based algorithm / distance-based algorithm, calculate the distances between points to assign a cluster"
   ]
  },
  {
   "cell_type": "markdown",
   "id": "9527c6b2",
   "metadata": {},
   "source": [
    "#### 1. import data"
   ]
  },
  {
   "cell_type": "code",
   "execution_count": 1,
   "id": "1ad0af65",
   "metadata": {},
   "outputs": [],
   "source": [
    "import numpy as np\n",
    "import pandas as pd\n",
    "import matplotlib.pyplot as plt\n",
    "import seaborn as sns\n",
    "from sklearn import datasets"
   ]
  },
  {
   "cell_type": "code",
   "execution_count": 2,
   "id": "a33e6c17",
   "metadata": {},
   "outputs": [
    {
     "name": "stdout",
     "output_type": "stream",
     "text": [
      "   sepal length (cm)  sepal width (cm)  petal length (cm)  petal width (cm)\n",
      "0                5.1               3.5                1.4               0.2\n",
      "1                4.9               3.0                1.4               0.2\n",
      "2                4.7               3.2                1.3               0.2\n",
      "3                4.6               3.1                1.5               0.2\n",
      "4                5.0               3.6                1.4               0.2\n"
     ]
    }
   ],
   "source": [
    "data = datasets.load_iris()\n",
    "df = pd.DataFrame(data.data, columns=data.feature_names)\n",
    "print(df.head())"
   ]
  },
  {
   "cell_type": "markdown",
   "id": "9fe1ac1e",
   "metadata": {},
   "source": [
    "iris dataset is reasonable to assume it's distributed according to Gaussian distributions."
   ]
  },
  {
   "cell_type": "markdown",
   "id": "70d5ca95",
   "metadata": {},
   "source": [
    "#### 2. find optimal number of clusters for k-means"
   ]
  },
  {
   "cell_type": "code",
   "execution_count": 6,
   "id": "148832cb",
   "metadata": {},
   "outputs": [
    {
     "name": "stdout",
     "output_type": "stream",
     "text": [
      "[5.1 3.5 1.4 0.2]\n"
     ]
    }
   ],
   "source": [
    "x = df.iloc[:, [0,1,2,3]].values\n",
    "# look at the first array\n",
    "print(x[0])"
   ]
  },
  {
   "cell_type": "code",
   "execution_count": 7,
   "id": "a1356f66",
   "metadata": {},
   "outputs": [],
   "source": [
    "from sklearn.cluster import KMeans"
   ]
  },
  {
   "cell_type": "markdown",
   "id": "8d38bc6e",
   "metadata": {},
   "source": [
    "#### a. use elbow method"
   ]
  },
  {
   "cell_type": "code",
   "execution_count": 12,
   "id": "346c9d66",
   "metadata": {},
   "outputs": [
    {
     "name": "stderr",
     "output_type": "stream",
     "text": [
      "C:\\Users\\user\\anaconda3\\envs\\virtualenv\\lib\\site-packages\\sklearn\\cluster\\_kmeans.py:882: UserWarning: KMeans is known to have a memory leak on Windows with MKL, when there are less chunks than available threads. You can avoid it by setting the environment variable OMP_NUM_THREADS=1.\n",
      "  f\"KMeans is known to have a memory leak on Windows \"\n"
     ]
    }
   ],
   "source": [
    "wcss = []\n",
    "for i in range(1,10):\n",
    "    k = KMeans(n_clusters=i,\n",
    "               init='k-means++',\n",
    "               max_iter=300,\n",
    "               n_init=10,\n",
    "               random_state=0)\n",
    "    k.fit(x)\n",
    "    wcss.append(k.inertia_)"
   ]
  },
  {
   "cell_type": "code",
   "execution_count": 13,
   "id": "49032109",
   "metadata": {},
   "outputs": [
    {
     "data": {
      "image/png": "[encoded data removed]",
      "text/plain": [
       "<Figure size 432x288 with 1 Axes>"
      ]
     },
     "metadata": {
      "needs_background": "light"
     },
     "output_type": "display_data"
    }
   ],
   "source": [
    "# plot graph\n",
    "plt.figure(figsize=(6,4))\n",
    "plt.plot(range(1,10), wcss)\n",
    "plt.title('k-means cluster optimum')\n",
    "plt.xlabel('number of clusters')\n",
    "plt.ylabel('WCSS');"
   ]
  },
  {
   "cell_type": "markdown",
   "id": "54f5d854",
   "metadata": {},
   "source": [
    "optimal clusters are formed where the elbow occurs. <br>\n",
    "the best cluster is chosen when the WCSS (within cluster sum of squares) does not decrease with every iteration."
   ]
  },
  {
   "cell_type": "markdown",
   "id": "96992dff",
   "metadata": {},
   "source": [
    "#### b. use silhouette coefficient score"
   ]
  },
  {
   "cell_type": "code",
   "execution_count": 17,
   "id": "51aecb4c",
   "metadata": {},
   "outputs": [],
   "source": [
    "# silhouette score use to calculate the goodness of clustering technique\n",
    "# value from -1 to 1\n",
    "from sklearn.metrics import silhouette_score"
   ]
  },
  {
   "cell_type": "code",
   "execution_count": 20,
   "id": "93a44680",
   "metadata": {},
   "outputs": [
    {
     "name": "stdout",
     "output_type": "stream",
     "text": [
      "for n_clusters=2, silhouette coefficient is 0.681046169211746\n",
      "for n_clusters=3, silhouette coefficient is 0.5528190123564091\n",
      "for n_clusters=4, silhouette coefficient is 0.49745518901737446\n",
      "for n_clusters=5, silhouette coefficient is 0.4887488870931048\n",
      "for n_clusters=6, silhouette coefficient is 0.3648340039670018\n",
      "for n_clusters=7, silhouette coefficient is 0.3516080752111534\n",
      "for n_clusters=8, silhouette coefficient is 0.3535076298037069\n",
      "for n_clusters=9, silhouette coefficient is 0.3496516213459312\n",
      "for n_clusters=10, silhouette coefficient is 0.32157119162015396\n"
     ]
    }
   ],
   "source": [
    "for n in range(2,11):\n",
    "    kmeans = KMeans(n_clusters=n).fit(x)\n",
    "    label = kmeans.labels_\n",
    "    sil = silhouette_score(x, label, metric='euclidean')\n",
    "    print(\"for n_clusters={}, silhouette coefficient is {}\".format(n, sil))"
   ]
  },
  {
   "cell_type": "markdown",
   "id": "ce71a785",
   "metadata": {},
   "source": [
    "For the iris data set, s is highest with K=2, this is because the third species is in the middle overlapping the other 2 species. <br>\n",
    "So, we used K=3 for the iris data set because of other sources of knowledge about the problem domain.\n",
    "\n",
    "we can also use silhouette plots <br>\n",
    "thickness of plot representing each cluster important <br>\n",
    "thickness of plot should be more uniform in the case of iris dataset"
   ]
  },
  {
   "cell_type": "markdown",
   "id": "59127eb7",
   "metadata": {},
   "source": [
    "#### 3. create n=3 k-means classifier"
   ]
  },
  {
   "cell_type": "code",
   "execution_count": 21,
   "id": "45cf3b20",
   "metadata": {},
   "outputs": [],
   "source": [
    "kmeans = KMeans(n_clusters=3,\n",
    "                init='k-means++',\n",
    "                max_iter=300,\n",
    "                n_init=10,\n",
    "                random_state=0)\n",
    "\n",
    "ymeans = kmeans.fit_predict(x)"
   ]
  },
  {
   "cell_type": "code",
   "execution_count": 22,
   "id": "599264bc",
   "metadata": {},
   "outputs": [
    {
     "data": {
      "text/plain": [
       "array([1, 1, 1, 1, 1, 1, 1, 1, 1, 1, 1, 1, 1, 1, 1, 1, 1, 1, 1, 1, 1, 1,\n",
       "       1, 1, 1, 1, 1, 1, 1, 1, 1, 1, 1, 1, 1, 1, 1, 1, 1, 1, 1, 1, 1, 1,\n",
       "       1, 1, 1, 1, 1, 1, 0, 0, 2, 0, 0, 0, 0, 0, 0, 0, 0, 0, 0, 0, 0, 0,\n",
       "       0, 0, 0, 0, 0, 0, 0, 0, 0, 0, 0, 2, 0, 0, 0, 0, 0, 0, 0, 0, 0, 0,\n",
       "       0, 0, 0, 0, 0, 0, 0, 0, 0, 0, 0, 0, 2, 0, 2, 2, 2, 2, 0, 2, 2, 2,\n",
       "       2, 2, 2, 0, 0, 2, 2, 2, 2, 0, 2, 0, 2, 0, 2, 2, 0, 0, 2, 2, 2, 2,\n",
       "       2, 0, 2, 2, 2, 2, 0, 2, 2, 2, 0, 2, 2, 2, 0, 2, 2, 0])"
      ]
     },
     "execution_count": 22,
     "metadata": {},
     "output_type": "execute_result"
    }
   ],
   "source": [
    "ymeans"
   ]
  },
  {
   "cell_type": "code",
   "execution_count": 41,
   "id": "2ee9e85c",
   "metadata": {},
   "outputs": [
    {
     "data": {
      "text/plain": [
       "Text(0, 0.5, 'Sepal Width')"
      ]
     },
     "execution_count": 41,
     "metadata": {},
     "output_type": "execute_result"
    },
    {
     "data": {
      "image/png": "[encoded data removed]",
      "text/plain": [
       "<Figure size 864x576 with 1 Axes>"
      ]
     },
     "metadata": {
      "needs_background": "light"
     },
     "output_type": "display_data"
    }
   ],
   "source": [
    "# visualize only on x 1st 2 columns info\n",
    "# plot centroids also\n",
    "\n",
    "plt.figure(figsize=(12,8))\n",
    "plt.scatter(x[ymeans==0,0], x[ymeans==0,1], s=100, c='r', label='Iris-setosa')\n",
    "plt.scatter(x[ymeans==1,0], x[ymeans==1,1], s=100, c='b', label='Iris-versicolour')\n",
    "plt.scatter(x[ymeans==2,0], x[ymeans==2,1], s=100, c='g', label='Iris-virginica')\n",
    "plt.scatter(kmeans.cluster_centers_[:,0],\n",
    "            kmeans.cluster_centers_[:,1],\n",
    "            s=300,\n",
    "            c='black',\n",
    "            label='Centoids',\n",
    "            alpha=0.6)\n",
    "plt.legend()\n",
    "plt.xlabel('Sepal Length')\n",
    "plt.ylabel('Sepal Width')"
   ]
  },
  {
   "cell_type": "markdown",
   "id": "bd9ed772",
   "metadata": {},
   "source": [
    "#### k-means clustering follows hard clustering i.e each point in our dataset can belong to only one cluster. \n",
    "#### it does not give the probability distribution of each point belonging to all clusters"
   ]
  },
  {
   "cell_type": "markdown",
   "id": "b75cf8c3",
   "metadata": {},
   "source": [
    "#### 4. Use Gaussian Mixture"
   ]
  },
  {
   "cell_type": "code",
   "execution_count": null,
   "id": "e51e0ff2",
   "metadata": {},
   "outputs": [],
   "source": [
    "# we know k means goal is minimize distortion measure\n",
    "# gaussian mixture use k-independent gaussian distributions, but GM more flexible in shaping decision boundaries \n",
    "# so with GM there could be elliptical boundaries instead of K means circular boundaries"
   ]
  },
  {
   "cell_type": "code",
   "execution_count": 42,
   "id": "c82c71d3",
   "metadata": {},
   "outputs": [],
   "source": [
    "from sklearn.mixture import GaussianMixture"
   ]
  },
  {
   "cell_type": "code",
   "execution_count": 45,
   "id": "80a77f01",
   "metadata": {},
   "outputs": [],
   "source": [
    "gmm_predict = GaussianMixture(n_components=3).fit_predict(x)"
   ]
  },
  {
   "cell_type": "code",
   "execution_count": 46,
   "id": "ab083a8c",
   "metadata": {},
   "outputs": [
    {
     "data": {
      "text/plain": [
       "array([0, 0, 0, 0, 0, 0, 0, 0, 0, 0, 0, 0, 0, 0, 0, 0, 0, 0, 0, 0, 0, 0,\n",
       "       0, 0, 0, 0, 0, 0, 0, 0, 0, 0, 0, 0, 0, 0, 0, 0, 0, 0, 0, 0, 0, 0,\n",
       "       0, 0, 0, 0, 0, 0, 2, 2, 2, 2, 2, 2, 2, 2, 2, 2, 2, 2, 2, 2, 2, 2,\n",
       "       2, 2, 1, 2, 1, 2, 1, 2, 2, 2, 2, 1, 2, 2, 2, 2, 2, 1, 2, 2, 2, 2,\n",
       "       2, 2, 2, 2, 2, 2, 2, 2, 2, 2, 2, 2, 1, 1, 1, 1, 1, 1, 1, 1, 1, 1,\n",
       "       1, 1, 1, 1, 1, 1, 1, 1, 1, 1, 1, 1, 1, 1, 1, 1, 1, 1, 1, 1, 1, 1,\n",
       "       1, 1, 1, 1, 1, 1, 1, 1, 1, 1, 1, 1, 1, 1, 1, 1, 1, 1], dtype=int64)"
      ]
     },
     "execution_count": 46,
     "metadata": {},
     "output_type": "execute_result"
    }
   ],
   "source": [
    "gmm_predict"
   ]
  },
  {
   "cell_type": "code",
   "execution_count": 54,
   "id": "637a45f0",
   "metadata": {},
   "outputs": [
    {
     "data": {
      "image/png": "[encoded data removed]",
      "text/plain": [
       "<Figure size 864x576 with 1 Axes>"
      ]
     },
     "metadata": {
      "needs_background": "light"
     },
     "output_type": "display_data"
    }
   ],
   "source": [
    "plt.figure(figsize=(12,8))\n",
    "plt.scatter(x[gmm_predict==0,0], x[gmm_predict==0,1], s=100, c='b', label='Iris-versicolour')\n",
    "plt.scatter(x[gmm_predict==1,0], x[gmm_predict==1,1], s=100, c='g', label='Iris-virginica')\n",
    "plt.scatter(x[gmm_predict==2,0], x[gmm_predict==2,1], s=100, c='r', label='Iris-setosa')\n",
    "\n",
    "plt.legend()\n",
    "plt.xlabel('Sepal Length')\n",
    "plt.ylabel('Sepal Width');"
   ]
  },
  {
   "cell_type": "markdown",
   "id": "51ffe791",
   "metadata": {},
   "source": [
    "there's distinct difference in clustering between the virginica and setosa types when using GMM"
   ]
  },
  {
   "cell_type": "markdown",
   "id": "5794a825",
   "metadata": {},
   "source": [
    "#### 5. conclusion"
   ]
  },
  {
   "cell_type": "markdown",
   "id": "901b86d1",
   "metadata": {},
   "source": [
    "to compare these clusters if they match the original labels: <br>\n",
    "\n",
    "best way is to use an external cluster validation index such as the adjusted Rand score which generates a score between -1 and 1 (where an exact match will be scored as 1)."
   ]
  },
  {
   "cell_type": "code",
   "execution_count": null,
   "id": "1459255e",
   "metadata": {},
   "outputs": [],
   "source": [
    "# The Rand Index computes a similarity measure between two clusterings \n",
    "# by considering all pairs of samples and counting pairs that are assigned in the same or different clusters \n",
    "# in the predicted and true clusterings."
   ]
  }
 ],
 "metadata": {
  "kernelspec": {
   "display_name": "Python 3",
   "language": "python",
   "name": "python3"
  },
  "language_info": {
   "codemirror_mode": {
    "name": "ipython",
    "version": 3
   },
   "file_extension": ".py",
   "mimetype": "text/x-python",
   "name": "python",
   "nbconvert_exporter": "python",
   "pygments_lexer": "ipython3",
   "version": "3.7.10"
  }
 },
 "nbformat": 4,
 "nbformat_minor": 5
}
